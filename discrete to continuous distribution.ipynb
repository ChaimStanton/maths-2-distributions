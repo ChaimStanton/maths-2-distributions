{
 "cells": [
  {
   "cell_type": "code",
   "execution_count": 161,
   "metadata": {
    "slideshow": {
     "slide_type": "skip"
    }
   },
   "outputs": [],
   "source": [
    "import numpy as np\n",
    "import scipy.special\n",
    "from scipy.stats import binom, norm\n",
    "import matplotlib.pyplot as plt\n",
    "from ipywidgets import interact, interactive, FloatSlider, IntSlider, FloatLogSlider"
   ]
  },
  {
   "cell_type": "markdown",
   "metadata": {
    "slideshow": {
     "slide_type": "slide"
    }
   },
   "source": [
    "For a discrete random variable we have a function taking some discrete set of possible values to a set of probabilities which sum to 1. We call this function the *probability mass function*. We can sum the probabilities within a range to find the probability a result from the distribution lies between a and b."
   ]
  },
  {
   "cell_type": "code",
   "execution_count": 162,
   "metadata": {
    "hide_input": true,
    "slideshow": {
     "slide_type": "-"
    }
   },
   "outputs": [
    {
     "data": {
      "image/png": "[encoded data removed]",
      "text/plain": [
       "<Figure size 864x288 with 1 Axes>"
      ]
     },
     "metadata": {
      "needs_background": "light"
     },
     "output_type": "display_data"
    }
   ],
   "source": [
    "n = 25\n",
    "p = 0.5\n",
    "rs = np.arange(0,n+1)\n",
    "ps = binom.pmf(rs, n, p)\n",
    "a = 15\n",
    "b = 18\n",
    "\n",
    "cond = np.logical_and(rs >= a, rs <= b)\n",
    "\n",
    "f, ax = plt.subplots()\n",
    "f.set_figwidth(12)\n",
    "f.set_figheight(4)\n",
    "ax.annotate('a', xy = (a-0.2,1.01), xycoords = ('data', 'axes fraction'))\n",
    "ax.annotate('b', xy = (b-0.2,1.01), xycoords = ('data', 'axes fraction'))\n",
    "ax.axvline(a, color = 'black')\n",
    "ax.axvline(b, color ='black')\n",
    "\n",
    "ax.bar(rs[~cond], ps[~cond], color = 'blue')\n",
    "ax.bar(rs[cond], ps[cond], color = 'red');"
   ]
  },
  {
   "cell_type": "markdown",
   "metadata": {
    "slideshow": {
     "slide_type": "slide"
    }
   },
   "source": [
    "For a continuous random variable such as height this isn't possible because the probability of any single value occuring is 0. Suppose we collected data on heights and constructed a histogram. We can scale the histogram (remember that frequency $\\propto$ area) so the sum of all the areas is 1. Then the probability of the results is just the area between a and b."
   ]
  },
  {
   "cell_type": "code",
   "execution_count": 163,
   "metadata": {
    "slideshow": {
     "slide_type": "subslide"
    }
   },
   "outputs": [],
   "source": [
    "#Based on distribution of height for UK adult female population\n",
    "mean = 1.62\n",
    "sd = 0.0711,\n",
    "\n",
    "#set global variables to avoid unnecessary resampling/redrawing\n",
    "current_num = 0\n",
    "rs\n",
    "def histogram (n = 100, bins = 15, a = 1.68, b = 1.71):\n",
    "    global current_num, rs\n",
    "    \n",
    "    #if sample size has changed, resample for new histogram\n",
    "    num = int(n)\n",
    "    if num != current_num:\n",
    "        rs = norm.rvs(mean, sd, size = num)\n",
    "        current_num = num\n",
    "    \n",
    "    #draw graph\n",
    "    cond = np.logical_and(rs >= a, rs <= b)\n",
    "    f, ax = plt.subplots()\n",
    "    f.set_figwidth(12)\n",
    "    f.set_figheight(5)\n",
    "    ax.axvline(a, color = 'black')\n",
    "    ax.axvline(b, color ='black')\n",
    "    ax.annotate('a', xy = (a,1.01), xycoords = ('data', 'axes fraction'))\n",
    "    ax.annotate('b', xy = (b,1.01), xycoords = ('data', 'axes fraction'))\n",
    "    fds, vals, patches = ax.hist(rs, color = 'blue', bins = bins, density = True)\n",
    "    width = vals[1] - vals[0]\n",
    "    for i in range(bins):\n",
    "        if(vals[i] + width/2>a and vals[i] + width/2 <b):\n",
    "            patches[i].set_fc('r')"
   ]
  },
  {
   "cell_type": "code",
   "execution_count": 164,
   "metadata": {
    "scrolled": true
   },
   "outputs": [
    {
     "data": {
      "application/vnd.jupyter.widget-view+json": {
       "model_id": "3fbfb8c41ca94150bf36cb1c32a763ed",
       "version_major": 2,
       "version_minor": 0
      },
      "text/plain": [
       "interactive(children=(FloatLogSlider(value=100.0, description='n', max=5.0, min=2.0, readout_format='d', step=…"
      ]
     },
     "metadata": {},
     "output_type": "display_data"
    }
   ],
   "source": [
    "interact(histogram,  bins=(10,100,5), a = (1.35,1.9,0.01), b = (1.35,1.9,0.01), n = FloatLogSlider(value=100, base=10, min = 2, max = 5, step = 0.5, readout_format = 'd'));"
   ]
  },
  {
   "cell_type": "markdown",
   "metadata": {
    "slideshow": {
     "slide_type": "fragment"
    }
   },
   "source": [
    "What if $a$ and $b$ don't overlap with our bins nicely? Then we are estimating the result. We need more data and smaller bins to give us ever closer estimates for any values of a and b."
   ]
  },
  {
   "cell_type": "markdown",
   "metadata": {
    "slideshow": {
     "slide_type": "slide"
    }
   },
   "source": [
    "So what we end up with is some continuous function whose area between two points gives the probability of a result being between these two values. This is called a *probability density function*."
   ]
  },
  {
   "cell_type": "code",
   "execution_count": 165,
   "metadata": {
    "slideshow": {
     "slide_type": "-"
    }
   },
   "outputs": [
    {
     "data": {
      "image/png": "[encoded data removed]",
      "text/plain": [
       "<Figure size 864x360 with 1 Axes>"
      ]
     },
     "metadata": {
      "needs_background": "light"
     },
     "output_type": "display_data"
    }
   ],
   "source": [
    "mean = 1.62\n",
    "sd = 0.0711\n",
    "xs = np.linspace(mean-4*sd, mean+4*sd,500)\n",
    "ps = norm.pdf(xs, mean, sd)\n",
    "a = 1.68\n",
    "b = 1.71\n",
    "\n",
    "cond = np.logical_and(rs >= a, rs <= b)\n",
    "\n",
    "f, ax = plt.subplots()\n",
    "f.set_figwidth(12)\n",
    "f.set_figheight(5)\n",
    "ax.spines['bottom'].set_position(('data', 0.0))\n",
    "\n",
    "ax.axvline(a, color = 'black')\n",
    "ax.axvline(b, color ='black')\n",
    "ax.annotate('a', xy = (a,1.01), xycoords = ('data', 'axes fraction'))\n",
    "ax.annotate('b', xy = (b,1.01), xycoords = ('data', 'axes fraction'))\n",
    "ax.fill_between(xs, ps, 0, np.logical_or(xs<a, xs > b), color = 'b');\n",
    "ax.fill_between(xs, ps, 0, np.logical_and(xs>=a, xs <= b), color = 'r');"
   ]
  }
 ],
 "metadata": {
  "celltoolbar": "Slideshow",
  "hide_input": true,
  "kernelspec": {
   "display_name": "Python 3",
   "language": "python",
   "name": "python3"
  },
  "language_info": {
   "codemirror_mode": {
    "name": "ipython",
    "version": 3
   },
   "file_extension": ".py",
   "mimetype": "text/x-python",
   "name": "python",
   "nbconvert_exporter": "python",
   "pygments_lexer": "ipython3",
   "version": "3.6.8"
  }
 },
 "nbformat": 4,
 "nbformat_minor": 2
}
