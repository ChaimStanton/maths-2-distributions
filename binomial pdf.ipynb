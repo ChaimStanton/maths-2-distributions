{
 "cells": [
  {
   "cell_type": "code",
   "execution_count": null,
   "metadata": {
    "slideshow": {
     "slide_type": "skip"
    }
   },
   "outputs": [],
   "source": [
    "import numpy as np\n",
    "import scipy.special\n",
    "from scipy.stats import binom\n",
    "import matplotlib.pyplot as plt\n",
    "from ipywidgets import interact, interactive, FloatSlider, IntSlider, Dropdown"
   ]
  },
  {
   "cell_type": "code",
   "execution_count": null,
   "metadata": {
    "hide_input": false,
    "slideshow": {
     "slide_type": "skip"
    }
   },
   "outputs": [],
   "source": [
    "%matplotlib inline\n",
    "plt.style.use('ggplot')"
   ]
  },
  {
   "cell_type": "code",
   "execution_count": null,
   "metadata": {
    "slideshow": {
     "slide_type": "skip"
    }
   },
   "outputs": [],
   "source": [
    "adaYellow=(245,225,52)\n",
    "adaPurple=(149,96,159)\n",
    "adaGreen=(161,200,84)\n",
    "adaCoral=(236,98,113)\n",
    "adaBlue=(108,184,231)\n",
    "adaOrange=(246,131,82)\n",
    "\n",
    "adaBlack=(9,20,8)\n",
    "adaGrey=(134,136,140)\n",
    "adaLightGrey=(211,212,211)\n",
    "adaWhite=(255,255,255)\n",
    "\n",
    "# matplotlib wants 0-1 not 0-255\n",
    "def nrm(c):\n",
    "    return list(map(lambda x: x/255, c))"
   ]
  },
  {
   "cell_type": "code",
   "execution_count": null,
   "metadata": {
    "hide_input": false,
    "scrolled": false,
    "slideshow": {
     "slide_type": "skip"
    }
   },
   "outputs": [],
   "source": [
    "def binomial(n=10, p=0.3, s=0.05, tail=\"both\"):\n",
    "    \n",
    "    # r=0, 1, 2, ..., n\n",
    "    rs = np.arange(0,n+1)\n",
    "    # Probability P(X=r)\n",
    "    ps = binom.pmf(rs,n,p)\n",
    "    # Cumulative probability P(X<=r)\n",
    "    cs = binom.cdf(rs,n,p)\n",
    "    # From the other end P(X>=r)=1-P(X<=r-1)\n",
    "    ds = 1-binom.cdf(rs-1,n,p)\n",
    "\n",
    "    # Define critical region\n",
    "    if tail==\"left\":\n",
    "        indices = cs < s\n",
    "    elif tail==\"right\":\n",
    "        indices = ds < s\n",
    "    elif tail==\"both\":\n",
    "        indices = np.logical_or(cs < s/2, ds < s/2)\n",
    "    \n",
    "    f, ax = plt.subplots()\n",
    "    f.set_figwidth(12)\n",
    "    f.set_figheight(4)\n",
    "\n",
    "    ax.set_xticks(rs)\n",
    "    ax.scatter(rs[~indices], cs[~indices], c=[nrm(adaPurple)], label=\"$P(X\\leq r)$\")\n",
    "    ax.scatter(rs[~indices], ds[~indices], c=[nrm(adaBlue)], label=\"$P(X\\geq r)=1-P(X\\leq r-1)$\")\n",
    "    ax.bar(rs[~indices], ps[~indices], color=nrm(adaGreen), label=\"$P(X=r)$\")\n",
    "    \n",
    "\n",
    "    # If we've identified a critical region\n",
    "    if indices.any():\n",
    "        ax.scatter(rs[indices], cs[indices], c=[nrm(adaCoral)])\n",
    "        ax.scatter(rs[indices], ds[indices], c=[nrm(adaCoral)])\n",
    "        ax.bar(rs[indices], ps[indices], color=nrm(adaCoral), label=\"Critical region\")\n",
    "        \n",
    "    ax.legend()\n",
    "    "
   ]
  },
  {
   "cell_type": "code",
   "execution_count": null,
   "metadata": {
    "hide_input": false,
    "scrolled": true,
    "slideshow": {
     "slide_type": "slide"
    }
   },
   "outputs": [],
   "source": [
    "interact(binomial,n=(2,50,1), p=(0.01,0.99,0.01), s=(0.01,0.99,0.01), tail=[\"left\",\"right\",\"both\"]);"
   ]
  },
  {
   "cell_type": "code",
   "execution_count": null,
   "metadata": {
    "scrolled": false
   },
   "outputs": [],
   "source": [
    "n_slider = IntSlider(value=10, min=3, max=50, step=1, continuous_update=False)\n",
    "p_slider = FloatSlider(value=0.5, min=0.01, max=0.99, step=0.01, continuous_update=False)\n",
    "s_slider = FloatSlider(value=0.05, min=0.01, max=0.99, step=0.01, continuous_update=False)\n",
    "tail_dropdown = Dropdown(value=\"left\", options=[\"left\",\"right\",\"both\"])\n",
    "interact(binomial, n=n_slider, p=p_slider, s=s_slider, tail=tail_dropdown);"
   ]
  }
 ],
 "metadata": {
  "celltoolbar": "Slideshow",
  "kernelspec": {
   "display_name": "Python 3",
   "language": "python",
   "name": "python3"
  },
  "language_info": {
   "codemirror_mode": {
    "name": "ipython",
    "version": 3
   },
   "file_extension": ".py",
   "mimetype": "text/x-python",
   "name": "python",
   "nbconvert_exporter": "python",
   "pygments_lexer": "ipython3",
   "version": "3.6.8"
  }
 },
 "nbformat": 4,
 "nbformat_minor": 2
}
